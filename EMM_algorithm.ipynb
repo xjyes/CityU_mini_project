{
 "cells": [
  {
   "cell_type": "markdown",
   "id": "4efedbca",
   "metadata": {},
   "source": [
    "# Introduction\n",
    "\n",
    "This notebook finished the tasks from the [mini project document](LMM.pdf). \n",
    "\n",
    "There is a a dataset $\\{ \\mathbf{y}, \\mathbf{X}, \\mathbf{Z} \\}$ with $n$ samples, \n",
    "where $\\mathbf{y} \\in \\mathbb{R}^n$ is the vector of response variable, \n",
    "$\\mathbf{X} \\in \\mathbb{R}^{n \\times p}$ is the matrix of $p$ independent variables, \n",
    "and $\\mathbf{Z} \\in \\mathbb{R}^{n \\times c}$ is another matrix of $c$ variables. The notebook aimed to implement an Expectation-Maximization (EM) algorithm to find the best set of parameter $\\Theta = \\{\\omega, \\sigma^2_{\\beta}, \\sigma^2_{e}\\}$ for a **linear mixed model** (LMM) \n",
    "$$\n",
    "y = \\mathbf{Z}\\boldsymbol{\\omega} + \\mathbf{X}\\boldsymbol{\\beta} + \\mathbf{e},\n",
    "\\qquad \n",
    "\\boldsymbol{\\beta}\\sim \\mathcal N(\\mathbf{0},\\,\\sigma_\\beta^2 \\mathbf{I}_p), \\quad\n",
    "\\mathbf{e}\\sim \\mathcal N(\\mathbf{0},\\,\\sigma_e^2 \\mathbf{I}_n).\n",
    "$$ \n",
    "\n",
    "\n",
    "The implemented algorithm was applied to the [dataset](XYZ_MoM.txt).\n",
    "\n",
    "Besides, it also demonstrated the implementation of the mean-field varaition inference (MFVI). A comparision between the MFVI and EM was made."
   ]
  },
  {
   "cell_type": "markdown",
   "id": "80dc63f9",
   "metadata": {},
   "source": [
    "# 0. Load packages"
   ]
  },
  {
   "cell_type": "code",
   "execution_count": 31,
   "id": "4552473b",
   "metadata": {},
   "outputs": [],
   "source": [
    "from typing import Dict, Tuple, Optional\n",
    "from em_lmm import _chol_solve, _safe_var\n",
    "import numpy as np\n",
    "import numpy.linalg as npl\n",
    "import math\n",
    "import matplotlib.pyplot as plt"
   ]
  },
  {
   "cell_type": "markdown",
   "id": "98be389d",
   "metadata": {},
   "source": [
    "# 1. Implementation of the EM algorithm\n",
    "\n",
    "This step implemented the EM algorithm for a LMM. \n",
    "\n",
    "**Return at each iteration:**\n",
    "- the marginal log-likelihood, \n",
    "- the current estimate of $\\Theta=\\{\\boldsymbol{\\omega},\\sigma_\\beta^2,\\sigma_e^2\\}$,\n",
    "- and the posterior mean of $\\boldsymbol{\\beta}$."
   ]
  },
  {
   "cell_type": "markdown",
   "id": "8c491363",
   "metadata": {},
   "source": [
    "## 1.1 Model setup and notations\n",
    "\n",
    "- $y\\in\\mathbb R^n$: response vector  \n",
    "- $\\mathbf{Z}\\in\\mathbb R^{n\\times c}$: fixed-effects design  \n",
    "- $\\mathbf{X}\\in\\mathbb R^{n\\times p}$: random-effects design  \n",
    "- $\\boldsymbol{\\omega}\\in\\mathbb R^c$: fixed effects\n",
    "- $\\boldsymbol{\\beta}\\in\\mathbb R^p$: random effects\n",
    "- $\\mathbf{e}\\in\\mathbb R^n$: independent noise term \n",
    "- Unknown parameters: $\\Theta=\\{\\boldsymbol{\\omega},\\sigma_\\beta^2,\\sigma_e^2\\}$.  \n",
    "- Latent variable: $\\boldsymbol{\\beta}\\in\\mathbb R^p$.\n",
    "\n",
    "We treat $\\boldsymbol{\\beta}$ as **latent** because it is not observed; its prior is\n",
    "$\\boldsymbol{\\beta}\\sim\\mathcal N(\\mathbf{0},\\sigma_\\beta^2 \\mathbf{I}_p)$."
   ]
  },
  {
   "cell_type": "markdown",
   "id": "fe5383e8",
   "metadata": {},
   "source": [
    "## 1.2 Marginal likelihood (integrating out $\\beta$)"
   ]
  },
  {
   "cell_type": "markdown",
   "id": "fb4f5ad7",
   "metadata": {},
   "source": [
    "**Conditionally on $\\boldsymbol{\\beta}$:**\n",
    "\n",
    "Given fixed $\\mathbf{Z}$, $\\boldsymbol{\\omega}$, and $\\mathbf{X}$, when we conditioned on $\\boldsymbol{\\beta}$, $\\mathbf{Z}\\boldsymbol{\\omega} + \\mathbf{X}\\boldsymbol{\\beta}$ can be regarded as a constant. $y \\mid \\boldsymbol{\\beta} = (\\mathbf{Z}\\boldsymbol{\\omega} + \\mathbf{X}\\boldsymbol{\\beta}) + \\mathbf{e}$ is a _constant+gaussian noise_.\n",
    "\n",
    "$$\n",
    "y \\mid \\boldsymbol{\\beta} \\sim \\mathcal N\\!\\big(\\mathbf{Z}\\boldsymbol{\\omega} + \\mathbf{X}\\boldsymbol{\\beta},\\ \\sigma_e^2 \\mathbf{I}_n\\big).\n",
    "$$\n",
    "\n",
    "**Integrating out $\\boldsymbol{\\beta}$ gives:**\n",
    "\n",
    "- **Expectation:**\n",
    "$$\n",
    "\\mathbb{E}[y] \n",
    "= \\mathbb{E}_\\beta\\big[\\mathbb{E}[y \\mid \\beta]\\big] \n",
    "= \\mathbb{E}_\\beta[Z\\omega + X\\beta] \n",
    "= Z\\omega + X \\mathbb{E}[\\beta] \n",
    "= Z\\omega,\n",
    "$$\n",
    "because $$\\beta \\sim \\mathcal N(0,\\sigma_\\beta^2 I_p)$$ has mean 0.\n",
    "\n",
    "\n",
    "- **Covariance:**\n",
    "$$\n",
    "\\operatorname{Cov}(y) \n",
    "= \\mathbb{E}_\\beta\\!\\big[\\operatorname{Cov}(y \\mid \\beta)\\big] \n",
    "+ \\operatorname{Cov}_\\beta\\!\\big(\\mathbb{E}[y \\mid \\beta]\\big).\n",
    "$$\n",
    "\n",
    "Here,\n",
    "$$\n",
    "\\operatorname{Cov}(y \\mid \\beta) = \\sigma_e^2 I_n, \n",
    "\\qquad \n",
    "\\mathbb{E}[y \\mid \\beta] = Z\\omega + X\\beta.\n",
    "$$\n",
    "\n",
    "Thus,\n",
    "$$\n",
    "\\operatorname{Cov}(y) \n",
    "= \\sigma_e^2 I_n + \\operatorname{Cov}(X\\beta)\n",
    "= \\sigma_e^2 I_n + X\\,\\operatorname{Cov}(\\beta)\\,X^\\top\n",
    "= \\sigma_e^2 I_n + \\sigma_\\beta^2 XX^\\top.\n",
    "$$\n",
    "\n",
    "$$\n",
    "y \\sim \\mathcal N\\!\\big(\\mathbf{Z}\\boldsymbol{\\omega},\\ \\boldsymbol{\\Sigma}_y\\big),\n",
    "\\qquad\n",
    "\\boldsymbol{\\Sigma}_y = \\sigma_e^2 \\mathbf{I}_n + \\sigma_\\beta^2 \\mathbf{X}\\mathbf{X}^\\top.\n",
    "$$\n",
    "\n",
    "**The marginal log-likelihood is:**\n",
    "$$\n",
    "\\log p(y\\mid\\Theta)\n",
    "= -\\tfrac{n}{2}\\log(2\\pi)\\ -\\ \\tfrac{1}{2}\\log\\lvert \\boldsymbol{\\Sigma}_y\\rvert\\ -\\\n",
    "\\tfrac{1}{2}(y-\\mathbf{Z}\\boldsymbol{\\omega})^\\top \\boldsymbol{\\Sigma}_y^{-1}(y-\\mathbf{Z}\\boldsymbol{\\omega}).\n",
    "$$\n",
    "\n",
    "This comes from the standard density of the multivariate Gaussian distribution:\n",
    "\n",
    "$$\n",
    "p(y) = \\frac{1}{(2\\pi)^{n/2}|\\Sigma|^{1/2}} \n",
    "\\exp\\!\\left(-\\tfrac{1}{2}(y-\\mu)^\\top \\Sigma^{-1}(y-\\mu)\\right).\n",
    "$$\n",
    "\n",
    "Apply it here with $\\mu = Z\\omega$, $\\Sigma = \\Sigma_y$.\n",
    "\n",
    "**To efficiently compute** the inverse and determinant of $\\Sigma_y = \\sigma_e^2 I_n + \\sigma_\\beta^2 X X^\\top$ without directly forming the $n\\times n$ matrix, we can apply the **Woodbury matrix identity**:\n",
    "\n",
    "$$\n",
    "(A + UCV)^{-1} \n",
    "= A^{-1} - A^{-1}U(C^{-1} + V A^{-1} U)^{-1}V A^{-1}.\n",
    "$$\n",
    "\n",
    "Let $A = \\sigma_e^2 I_n,\\; U = X,\\; C = \\sigma_\\beta^2 I_p,\\; V = X^\\top.$\n",
    "Then,  \n",
    "\n",
    "$$\n",
    "\\Sigma_y^{-1} \n",
    "= \\frac{1}{\\sigma_e^2}\\left[I_n \n",
    "- X\\left(\\frac{\\sigma_e^2}{\\sigma_\\beta^2} I_p + X^\\top X\\right)^{-1} X^\\top\\right].\n",
    "$$\n",
    "\n",
    "Similarly, the log-determinant can be expressed as:\n",
    "\n",
    "$$\n",
    "\\log|\\Sigma_y| \n",
    "= n\\log\\sigma_e^2 \n",
    "+ \\log\\left|I_p + \\frac{\\sigma_\\beta^2}{\\sigma_e^2} X^\\top X\\right|.\n",
    "$$\n",
    "\n",
    "These transformations reduce computations from $O(n^3)$ to $O(p^3)$,  \n",
    "which is critical when $n \\gg p$."
   ]
  },
  {
   "cell_type": "code",
   "execution_count": 9,
   "id": "76f526d1",
   "metadata": {},
   "outputs": [],
   "source": [
    "def marginal_loglik(y: np.ndarray,\n",
    "                    Z: np.ndarray,\n",
    "                    X: np.ndarray,\n",
    "                    omega: np.ndarray,\n",
    "                    sigma2_e: float,\n",
    "                    sigma2_b: float) -> float:\n",
    "\n",
    "\n",
    "    # Basic dimensions\n",
    "    n, p = X.shape  # n: number of samples, p: number of random effects\n",
    "\n",
    "\n",
    "    # Residual vector (y - Zω)\n",
    "    v = y - Z @ omega          \n",
    "\n",
    "    # Compute ratio σ²_b / σ²_e\n",
    "    ratio = sigma2_b / sigma2_e\n",
    "\n",
    "    # Construct the smaller p×p matrix A = I_p + (σ²_b/σ²_e) XᵀX using the Woodbury identity\n",
    "    A = np.eye(p) + ratio * (X.T @ X)\n",
    "\n",
    "    # Cholesky decomposition of A: A = LLᵀ\n",
    "    L = npl.cholesky(A)\n",
    "\n",
    "    # Compute log|Σ_y| efficiently\n",
    "    logdet_Sy = n * math.log(sigma2_e) + 2.0 * float(np.sum(np.log(np.diag(L))))\n",
    "\n",
    "    # Compute quadratic term (y - Zω)ᵀ Σ_y⁻¹ (y - Zω)\n",
    "    rhs = X.T @ v              # Xᵀv\n",
    "    w = _chol_solve(A, rhs)    # Solve A w = Xᵀv for w\n",
    "    Sy_inv_v = (v - ratio * (X @ w)) / sigma2_e\n",
    "    quad = float(v @ Sy_inv_v) \n",
    "\n",
    "    # Combine all parts of Gaussian log-density\n",
    "    #    log p(y | Θ) = -½ [ n log(2π) + log|Σ_y| + vᵀ Σ_y⁻¹ v ]\n",
    "    return -0.5 * (n * math.log(2.0 * math.pi) + logdet_Sy + quad)\n"
   ]
  },
  {
   "cell_type": "markdown",
   "id": "a56c48c7",
   "metadata": {},
   "source": [
    "## 1.3 E-step"
   ]
  },
  {
   "cell_type": "markdown",
   "id": "15a8b1eb",
   "metadata": {},
   "source": [
    "In the E-step, we compute the expected value of the complete-data log-likelihood \n",
    "with respect to the posterior distribution of the latent variable $\\beta$\n",
    "under the current parameter estimates $\\Theta^{(t)}$:\n",
    "\n",
    "$$\n",
    "Q(\\Theta \\mid \\Theta^{(t)}) = \\mathbb E_{\\boldsymbol{\\beta}\\mid y,\\Theta^{(t)}}\n",
    "\\big[\\log p(y,\\boldsymbol{\\beta}\\mid \\Theta)\\big].\n",
    "$$\n",
    "\n",
    "The _posterior of $\\boldsymbol{\\beta}$ under current parameters ($\\Theta^{(t)}$) is:_\n",
    "$$\n",
    "\\boldsymbol{\\beta}\\mid y,\\Theta^{(t)} \\sim \\mathcal N\\!\\big(\\mathbf{m}^{(t)},\\ \\mathbf{S}^{(t)}\\big)\n",
    "$$\n",
    "\n",
    "\n",
    "**Notes:**\n",
    "- The E-step **does not optimize** any parameters.\n",
    "- It **computes the expectation** of the complete-data log-likelihood using the \n",
    "posterior of $\\beta$ under current parameters $\\Theta^{(t)}$.\n",
    "- This expected value $Q(\\Theta \\mid \\Theta^{(t)})$ \n",
    "becomes the objective function for the M-step."
   ]
  },
  {
   "cell_type": "markdown",
   "id": "2f0a1412",
   "metadata": {},
   "source": [
    "### 1.3.1 Complete-data log-likelihood\n",
    "\n",
    "The complete-data consists of the observed data $y$ and the latent variables $\\beta$.  \n",
    "By the model,\n",
    "$$\n",
    "p(y,\\beta \\mid \\Theta) = p(y \\mid \\beta, \\Theta)\\, p(\\beta \\mid \\Theta).\n",
    "$$\n",
    "\n",
    "- **Conditional likelihood:**\n",
    "$$\n",
    "y \\mid \\beta \\sim \\mathcal N(Z\\omega + X\\beta,\\ \\sigma_e^2 I_n).\n",
    "$$\n",
    "\n",
    "- **Prior:**\n",
    "$$\n",
    "\\beta \\sim \\mathcal N(0,\\ \\sigma_\\beta^2 I_p).\n",
    "$$\n",
    "\n",
    "Thus the complete-data log-likelihood (ignoring additive constants) is:\n",
    "$$\n",
    "\\log p(y,\\beta \\mid \\Theta)\n",
    "= -\\frac{n}{2}\\log\\sigma_e^2\n",
    "  -\\frac{1}{2\\sigma_e^2}\\|y - Z\\omega - X\\beta\\|^2\n",
    "  -\\frac{p}{2}\\log\\sigma_\\beta^2\n",
    "  -\\frac{1}{2\\sigma_\\beta^2}\\|\\beta\\|^2.\n",
    "$$"
   ]
  },
  {
   "cell_type": "markdown",
   "id": "02e596e8",
   "metadata": {},
   "source": [
    "\n",
    "### 1.3.2 Posterior of $\\beta$\n",
    "\n",
    "Using Bayes’ theorem:\n",
    "\n",
    "$$\n",
    "p(\\beta \\mid y,\\Theta) = p(y, \\beta \\mid \\Theta)\\, p(y \\mid \\Theta)\n",
    "\\propto \n",
    "p(y,\\beta \\mid \\Theta) = p(y \\mid \\beta, \\Theta)\\,p(\\beta \\mid \\Theta).\n",
    "$$\n",
    "\n",
    "Taking the logarithm again (up to a constant):\n",
    "\n",
    "$$\n",
    "\\log p(\\beta \\mid y,\\Theta)\n",
    "= \\log p(y \\mid \\beta, \\Theta) + \\log p(\\beta \\mid \\Theta) + C\n",
    "= -\\frac{1}{2\\sigma_e^2}\\|y - Z\\omega - X\\beta\\|^2\n",
    "  -\\frac{1}{2\\sigma_\\beta^2}\\|\\beta\\|^2 + C.\n",
    "$$\n",
    "\n",
    "\n",
    "Expand the first term:\n",
    "\n",
    "$$\n",
    "\\|y - Z\\omega - X\\beta\\|^2\n",
    "= (y - Z\\omega)^\\top(y - Z\\omega)\n",
    "  - 2\\beta^\\top X^\\top(y - Z\\omega)\n",
    "  + \\beta^\\top X^\\top X\\beta.\n",
    "$$\n",
    "\n",
    "Substitute this into the log posterior:\n",
    "\n",
    "$$\n",
    "\\log p(\\beta \\mid y,\\Theta)\n",
    "= -\\frac{1}{2}\\beta^\\top\n",
    "   \\big(\\sigma_e^{-2}X^\\top X + \\sigma_\\beta^{-2}I_p\\big)\\beta\n",
    "  + \\beta^\\top\n",
    "   \\big(\\sigma_e^{-2}X^\\top(y - Z\\omega)\\big)\n",
    "  + \\text{const}.\n",
    "$$\n",
    "\n",
    "\n",
    "Now, we identify the Gaussian form by \"completing the square\".\n",
    "\n",
    "The above is a standard multivariate Gaussian log-density of the form:\n",
    "\n",
    "$$\n",
    "\\log p(\\beta \\mid y,\\Theta)\n",
    "= -\\frac{1}{2}(\\beta - m)^\\top S^{-1}(\\beta - m) + \\text{const}.\n",
    "$$\n",
    "\n",
    "Matching terms, we can identify:\n",
    "\n",
    "$$\n",
    "S^{-1} = \\sigma_\\beta^{-2}I_p + \\sigma_e^{-2}X^\\top X,\n",
    "\\qquad\n",
    "S = \\Big(\\sigma_\\beta^{-2}I_p + \\sigma_e^{-2}X^\\top X\\Big)^{-1},\n",
    "$$\n",
    "\n",
    "$$\n",
    "m = S\\big(\\sigma_e^{-2}X^\\top(y - Z\\omega)\\big).\n",
    "$$\n",
    "\n",
    "Under the current parameter $\\Theta^{(t)}$, the posterior distribution of \n",
    "$\\beta$ is Gaussian:\n",
    "\n",
    "$$\n",
    "\\beta \\mid y,\\Theta^{(t)} \\sim \n",
    "\\mathcal N\\!\\big(m^{(t)},\\, S^{(t)}\\big),\n",
    "$$\n",
    "\n",
    "where\n",
    "\n",
    "$$\n",
    "S^{(t)} = \n",
    "\\Big(\\sigma_\\beta^{-2\\,(t)} I_p \n",
    "      + \\sigma_e^{-2\\,(t)} X^\\top X\\Big)^{-1},\n",
    "\\qquad\n",
    "m^{(t)} = \n",
    "S^{(t)}\\!\\Big(\\sigma_e^{-2\\,(t)} X^\\top (y - Z\\omega^{(t)})\\Big).\n",
    "$$"
   ]
  },
  {
   "cell_type": "markdown",
   "id": "cd4f189d",
   "metadata": {},
   "source": [
    "\n",
    "### 1.3.3 Compute the expectations\n",
    "\n",
    "To take the expectation of $\\log p(y,\\beta \\mid \\Theta)$,\n",
    "we only need to compute expectations involving $\\beta$:\n",
    "\n",
    "#### (a) Second moment of $\\beta$\n",
    "$$\n",
    "\\mathbb{E}\\|\\beta\\|^2\n",
    "= \\|m^{(t)}\\|^2 + \\operatorname{tr}(S^{(t)}).\n",
    "$$\n",
    "\n",
    "This follows from the moment identity for a Gaussian:\n",
    "$\\mathbb{E}[xx^\\top] = \\mu\\mu^\\top + \\Sigma.$\n",
    "\n",
    "#### (b) Expected squared residual\n",
    "$$\n",
    "\\mathbb{E}\\|y - Z\\omega - X\\beta\\|^2\n",
    "= \\|y - Z\\omega - X m^{(t)}\\|^2\n",
    "  + \\operatorname{tr}(X S^{(t)} X^\\top).\n",
    "$$\n",
    "\n",
    "This comes from variance decomposition:\n",
    "$$\n",
    "\\mathbb{E}\\|a - X\\beta\\|^2 \n",
    "= \\|a - X\\mathbb{E}[\\beta]\\|^2 \n",
    "+ \\operatorname{tr}(X \\operatorname{Var}(\\beta) X^\\top).\n",
    "$$"
   ]
  },
  {
   "cell_type": "markdown",
   "id": "40ce1e36",
   "metadata": {},
   "source": [
    "### 1.3.4 Substitute into $Q(\\Theta \\mid \\Theta^{(t)})$\n",
    "\n",
    "Substitute the two expectations into the complete-data log-likelihood:\n",
    "\n",
    "$$\n",
    "\\boxed{\n",
    "Q(\\Theta \\mid \\Theta^{(t)}) \n",
    "= -\\frac{n}{2}\\log\\sigma_e^2\n",
    "  -\\frac{1}{2\\sigma_e^2}\n",
    "     \\Big(\\|y - Z\\omega - X m^{(t)}\\|^2\n",
    "          + \\operatorname{tr}(X S^{(t)} X^\\top)\\Big)\n",
    "  -\\frac{p}{2}\\log\\sigma_\\beta^2\n",
    "  -\\frac{1}{2\\sigma_\\beta^2}\n",
    "     \\Big(\\|m^{(t)}\\|^2\n",
    "          + \\operatorname{tr}(S^{(t)})\\Big).\n",
    "}\n",
    "$$"
   ]
  },
  {
   "cell_type": "markdown",
   "id": "aaed24c2",
   "metadata": {},
   "source": [
    "## 1.4 M-step "
   ]
  },
  {
   "cell_type": "markdown",
   "id": "99cca43a",
   "metadata": {},
   "source": [
    "\n",
    "Given the E-step posterior $\\beta \\mid y,\\Theta^{(t)} \\sim \\mathcal N(\\mathbf{m}^{(t)}, \\mathbf{S}^{(t)})$,\n",
    "the $Q$-function (up to additive constants) is\n",
    "$$\n",
    "Q(\\Theta\\mid\\Theta^{(t)}) \n",
    "= -\\frac{n}{2}\\log\\sigma_e^{2}\n",
    "  -\\frac{1}{2\\sigma_e^{2}}\n",
    "     \\Big(\\,\\|y-\\mathbf{Z}\\boldsymbol{\\omega}-\\mathbf{X}\\mathbf{m}^{(t)}\\|^2\n",
    "          + \\operatorname{tr}(\\mathbf{X}\\mathbf{S}^{(t)}\\mathbf{X}^\\top)\\Big)\n",
    "  -\\frac{p}{2}\\log\\sigma_\\beta^{2}\n",
    "  -\\frac{1}{2\\sigma_\\beta^{2}}\n",
    "     \\Big(\\,\\|\\mathbf{m}^{(t)}\\|^2 + \\operatorname{tr}(\\mathbf{S}^{(t)})\\Big).\n",
    "$$\n",
    "\n",
    "We maximize $Q$ w.r.t. $\\boldsymbol{\\omega}$, $\\sigma_e^2$, and $\\sigma_\\beta^2$."
   ]
  },
  {
   "cell_type": "markdown",
   "id": "8c1c7ddc",
   "metadata": {},
   "source": [
    "### 1.4.1 Update for $\\boldsymbol{\\omega}$\n",
    "\n",
    "**Problem:** minimize the quadratic term in $\\boldsymbol{\\omega}$:\n",
    "$$\n",
    "\\min_{\\boldsymbol{\\omega}} \\ \\|y-\\mathbf{Z}\\boldsymbol{\\omega}-\\mathbf{X}\\mathbf{m}^{(t)}\\|^2.\n",
    "$$\n",
    "\n",
    "**Gradient:** \n",
    "$$\n",
    "\\frac{\\partial}{\\partial \\boldsymbol{\\omega}}\n",
    "\\|y-\\mathbf{Z}\\boldsymbol{\\omega}-\\mathbf{X}\\mathbf{m}^{(t)}\\|^2\n",
    "= -2\\mathbf{Z}^\\top\\!\\big(y-\\mathbf{Z}\\boldsymbol{\\omega}-\\mathbf{X}\\mathbf{m}^{(t)}\\big).\n",
    "$$\n",
    "\n",
    "Set to zero:\n",
    "$$\n",
    "\\mathbf{Z}^\\top\\mathbf{Z}\\,\\boldsymbol{\\omega}^{(t+1)}\n",
    "= \\mathbf{Z}^\\top\\!\\big(y - \\mathbf{X}\\mathbf{m}^{(t)}\\big)\n",
    "\\quad\\Longrightarrow\\quad\n",
    "\\boxed{\\;\n",
    "\\boldsymbol{\\omega}^{(t+1)} \n",
    "= (\\mathbf{Z}^\\top\\mathbf{Z})^{-1}\\mathbf{Z}^\\top\\!\\big(y-\\mathbf{X}\\mathbf{m}^{(t)}\\big).\n",
    "\\;}\n",
    "$$\n",
    "\n",
    "**Principle:** ordinary least squares (OLS) of the “E-step–denoised response”\n",
    "$y - \\mathbf{X}\\mathbf{m}^{(t)}$ onto the fixed-effects design $\\mathbf{Z}$.\n"
   ]
  },
  {
   "cell_type": "markdown",
   "id": "9b193854",
   "metadata": {},
   "source": [
    "### 1.4.2 Update for $\\sigma_e^2$\n",
    "\n",
    "Keep only the $\\sigma_e^2$-dependent part of $Q$:\n",
    "$$\n",
    "Q_e(\\sigma_e^2)\n",
    "= -\\frac{n}{2}\\log\\sigma_e^{2}\n",
    "  -\\frac{1}{2\\sigma_e^{2}}\n",
    "     \\underbrace{\\Big(\\|y-\\mathbf{Z}\\boldsymbol{\\omega}^{(t+1)}-\\mathbf{X}\\mathbf{m}^{(t)}\\|^2\n",
    "     + \\operatorname{tr}(\\mathbf{X}\\mathbf{S}^{(t)}\\mathbf{X}^\\top)\\Big)}_{=: \\ \\mathcal{R}_e^{(t)} }.\n",
    "$$\n",
    "\n",
    "Differentiate and set to zero:\n",
    "$$\n",
    "\\frac{\\partial Q_e}{\\partial \\sigma_e^2}\n",
    "= -\\frac{n}{2}\\frac{1}{\\sigma_e^2}\n",
    "  + \\frac{1}{2}\\frac{\\mathcal{R}_e^{(t)}}{(\\sigma_e^2)^2} = 0\n",
    "\\ \\Longrightarrow\\\n",
    "\\boxed{\\;\n",
    "\\sigma_e^{2\\,(t+1)} \n",
    "= \\frac{\\ \\|y-\\mathbf{Z}\\boldsymbol{\\omega}^{(t+1)}-\\mathbf{X}\\mathbf{m}^{(t)}\\|^2\n",
    "     + \\operatorname{tr}(\\mathbf{X}\\mathbf{S}^{(t)}\\mathbf{X}^\\top)}{n}.\n",
    "\\;}\n",
    "$$\n",
    "\n",
    "**Principle:** MLE of a Gaussian variance equals the **average expected squared residual**.\n"
   ]
  },
  {
   "cell_type": "markdown",
   "id": "13b8a004",
   "metadata": {},
   "source": [
    "### 1.4.3 Update for $\\sigma_\\beta^2$\n",
    "\n",
    "Keep only the $\\sigma_\\beta^2$-dependent part:\n",
    "$$\n",
    "Q_\\beta(\\sigma_\\beta^2)\n",
    "= -\\frac{p}{2}\\log\\sigma_\\beta^{2}\n",
    "  -\\frac{1}{2\\sigma_\\beta^{2}}\n",
    "     \\underbrace{\\Big(\\|\\mathbf{m}^{(t)}\\|^2 + \\operatorname{tr}(\\mathbf{S}^{(t)})\\Big)}_{=: \\ \\mathcal{R}_\\beta^{(t)}}.\n",
    "$$\n",
    "\n",
    "Differentiate and set to zero:\n",
    "$$\n",
    "\\frac{\\partial Q_\\beta}{\\partial \\sigma_\\beta^2}\n",
    "= -\\frac{p}{2}\\frac{1}{\\sigma_\\beta^2}\n",
    "  + \\frac{1}{2}\\frac{\\mathcal{R}_\\beta^{(t)}}{(\\sigma_\\beta^2)^2}=0\n",
    "\\ \\Longrightarrow\\\n",
    "\\boxed{\\;\n",
    "\\sigma_\\beta^{2\\,(t+1)} \n",
    "= \\frac{\\ \\|\\mathbf{m}^{(t)}\\|^2 + \\operatorname{tr}(\\mathbf{S}^{(t)})\\ }{p}.\n",
    "\\;}\n",
    "$$\n",
    "\n",
    "**Principle:** the prior variance matches the **average posterior second moment** of $\\beta$."
   ]
  },
  {
   "cell_type": "code",
   "execution_count": 72,
   "id": "861de1b0",
   "metadata": {},
   "outputs": [],
   "source": [
    "def em_lmm(y: np.ndarray,\n",
    "           X: np.ndarray,\n",
    "           Z: np.ndarray,\n",
    "           max_iter: int = 200,\n",
    "           tol: float = 1e-6,\n",
    "           ridge: float = 1e-8\n",
    "           ) -> Tuple[Dict[str, float], Dict[str, np.ndarray], Dict[str, list]]:\n",
    "\n",
    "    # Initialization\n",
    "    n, p = X.shape       # n: number of observations, p: number of random effects\n",
    "    _, c = Z.shape       # c: number of fixed effects\n",
    "\n",
    "    # Initialize ω by ordinary least squares (ignoring random effects)\n",
    "    omega = npl.lstsq(Z, y, rcond=None)[0]\n",
    "\n",
    "    # Initialize σ²_e using residual variance from OLS\n",
    "    sigma2_e = _safe_var(y - Z @ omega)\n",
    "\n",
    "    # Initialize σ²_b as 10% of σ²_e (small but nonzero random-effect variance)\n",
    "    sigma2_b = float(max(0.1 * sigma2_e, 1e-6))\n",
    "\n",
    "    # Record iteration history for monitoring convergence\n",
    "    history = {\"ll\": [], \"sigma2_e\": [], \"sigma2_b\": [], \"omega_norm\": []}\n",
    "\n",
    "    # trace computation\n",
    "    def _trace_terms(A: np.ndarray) -> Tuple[float, float]:\n",
    "        I_p = np.eye(p)\n",
    "        S = _chol_solve(A, I_p)          # S = A^{-1}\n",
    "        tr_S = float(np.trace(S))       # tr(S)\n",
    "        tr_XSXt = float(np.trace(X @ S @ X.T)) # tr(X S Xᵀ)\n",
    "        return S, tr_S, tr_XSXt\n",
    "\n",
    "    # EM iterations\n",
    "    prev_ll = -np.inf\n",
    "    for it in range(max_iter):\n",
    "\n",
    "        # E-step: compute posterior mean & covariance of β\n",
    "\n",
    "        # Residuals after accounting for fixed effects only\n",
    "        r = y - Z @ omega\n",
    "\n",
    "        # Posterior precision of β: A = σₑ⁻² XᵀX + σ_b⁻² I + λI\n",
    "        A = (X.T @ X) / max(sigma2_e, 1e-12) + np.eye(p) / max(sigma2_b, 1e-12) + ridge * np.eye(p)\n",
    "\n",
    "        # Posterior mean of β: m = A⁻¹ σₑ⁻² Xᵀ(y - Zω)\n",
    "        m = _chol_solve(A, (X.T @ r) / max(sigma2_e, 1e-12))\n",
    "\n",
    "        # Posterior covariance traces:\n",
    "        #   tr(S) = trace(A⁻¹)\n",
    "        #   tr(X S Xᵀ) = trace(X A⁻¹ Xᵀ)\n",
    "        S, tr_S, tr_XSXt = _trace_terms(A)\n",
    "\n",
    "\n",
    "\n",
    "        # M-step: update ω, σ²_e, σ²_b\n",
    "\n",
    "        # Update fixed effects ω by least squares: ω = (ZᵀZ + λI)⁻¹ Zᵀ(y - X m)\n",
    "        ZZ = Z.T @ Z + ridge * np.eye(c)\n",
    "        Zy = Z.T @ (y - X @ m)\n",
    "        omega = npl.solve(ZZ, Zy)\n",
    "\n",
    "        # Update residuals after both effects are accounted for\n",
    "        resid = y - Z @ omega - X @ m\n",
    "\n",
    "        # Update noise variance: σ²_e = (‖resid‖² + tr(X S Xᵀ)) / n\n",
    "        sigma2_e = float(max((resid @ resid + tr_XSXt) / n, 1e-12))\n",
    "\n",
    "        # Update random-effect variance: σ²_b = (‖m‖² + tr(S)) / p\n",
    "        sigma2_b = float(max((m @ m + tr_S) / p, 1e-12))\n",
    "\n",
    "\n",
    "        # Compute marginal log-likelihood (for monitoring)\n",
    "        ll = marginal_loglik(y, Z, X, omega, sigma2_e, sigma2_b)\n",
    "        history[\"ll\"].append(ll)\n",
    "        history[\"sigma2_e\"].append(sigma2_e)\n",
    "        history[\"sigma2_b\"].append(sigma2_b)\n",
    "        history[\"omega_norm\"].append(float(npl.norm(omega)))\n",
    "\n",
    "\n",
    "        print(f\"[EM] iter {it:3d} log p(y)={ll:.6f}\")\n",
    "        # Check for convergence based on log-likelihood\n",
    "        if it > 0:\n",
    "            rel_improve = abs(history[\"ll\"][-1] - history[\"ll\"][-2]) / max(1.0, abs(history[\"ll\"][-2]))\n",
    "            if rel_improve < tol:\n",
    "                break\n",
    "\n",
    "        \n",
    "\n",
    "\n",
    "    # Return estimates after convergence\n",
    "    theta_hat = {\"omega\": omega, \"sigma2_e\": sigma2_e, \"sigma2_b\": sigma2_b}\n",
    "    beta = {\"mean\": m, \"cov\": S}\n",
    "    return theta_hat, beta, history\n"
   ]
  },
  {
   "cell_type": "markdown",
   "id": "9e1e1749",
   "metadata": {},
   "source": [
    "## 1.5 Demo"
   ]
  },
  {
   "cell_type": "markdown",
   "id": "10e92634",
   "metadata": {},
   "source": [
    "\n",
    "Here is a demonstration of the generated EM algorithm for LMM on a small set of simulated data."
   ]
  },
  {
   "cell_type": "markdown",
   "id": "9d9c7dea",
   "metadata": {},
   "source": [
    "### 1.5.1 Simulate data"
   ]
  },
  {
   "cell_type": "code",
   "execution_count": 42,
   "id": "f4ff2be5",
   "metadata": {},
   "outputs": [
    {
     "name": "stdout",
     "output_type": "stream",
     "text": [
      "Simulated data:\n",
      "n=200, p=5, c=2\n",
      "True omega: [ 1.5 -0.5]\n",
      "True σ²_b=2.0, σ²_e=1.0\n",
      "\n"
     ]
    }
   ],
   "source": [
    "np.random.seed(42)\n",
    "\n",
    "n, p, c = 200, 5, 2   # n: samples, p: random effects, c: fixed effects\n",
    "\n",
    "# True parameters\n",
    "sigma2_e_true = 1.0\n",
    "sigma2_b_true = 2.0\n",
    "omega_true = np.array([1.5, -0.5])   # fixed-effect coefficients\n",
    "\n",
    "# Design matrices\n",
    "Z = np.random.randn(n, c)             # Fixed-effect design\n",
    "X = np.random.randn(n, p)             # Random-effect design\n",
    "\n",
    "# Random effect β ~ N(0, σ²_b I)\n",
    "beta_true = np.random.randn(p) * np.sqrt(sigma2_b_true)\n",
    "\n",
    "# Noise ε ~ N(0, σ²_e I)\n",
    "eps = np.random.randn(n) * np.sqrt(sigma2_e_true)\n",
    "\n",
    "# Generate response\n",
    "y = Z @ omega_true + X @ beta_true + eps\n",
    "\n",
    "print(\"Simulated data:\")\n",
    "print(f\"n={n}, p={p}, c={c}\")\n",
    "print(f\"True omega: {omega_true}\")\n",
    "print(f\"True σ²_b={sigma2_b_true}, σ²_e={sigma2_e_true}\\n\")\n"
   ]
  },
  {
   "cell_type": "markdown",
   "id": "b92b46dd",
   "metadata": {},
   "source": [
    "### 1.5.2 Run EM algorithm and get the results"
   ]
  },
  {
   "cell_type": "markdown",
   "id": "60129926",
   "metadata": {},
   "source": [
    "Run EM algorithm."
   ]
  },
  {
   "cell_type": "code",
   "execution_count": 74,
   "id": "00192086",
   "metadata": {},
   "outputs": [
    {
     "name": "stdout",
     "output_type": "stream",
     "text": [
      "[EM] iter   0 log p(y)=-306.343955\n",
      "[EM] iter   1 log p(y)=-304.893733\n",
      "[EM] iter   2 log p(y)=-304.892404\n",
      "[EM] iter   3 log p(y)=-304.892403\n"
     ]
    }
   ],
   "source": [
    "theta_hat, beta, history = em_lmm(y, X, Z, max_iter=200, tol=1e-6, ridge=1e-8)"
   ]
  },
  {
   "cell_type": "markdown",
   "id": "3bba1f86",
   "metadata": {},
   "source": [
    "Get the estimate of $\\Theta$."
   ]
  },
  {
   "cell_type": "code",
   "execution_count": 65,
   "id": "c7187c01",
   "metadata": {},
   "outputs": [
    {
     "name": "stdout",
     "output_type": "stream",
     "text": [
      "EM finished after 4 iterations.\n",
      "\n",
      "Estimated parameters:\n",
      "omega_hat   = [ 1.37157345 -0.4381529 ]\n",
      "sigma2_b̂   = 1.7281 (true=2.0)\n",
      "sigma2_ê   = 1.0693 (true=1.0)\n"
     ]
    }
   ],
   "source": [
    "print(\"EM finished after\", len(history[\"ll\"]), \"iterations.\\n\")\n",
    "print(\"Estimated parameters:\")\n",
    "print(f\"omega_hat   = {theta_hat['omega']}\")\n",
    "print(f\"sigma2_b̂   = {theta_hat['sigma2_b']:.4f} (true={sigma2_b_true})\")\n",
    "print(f\"sigma2_ê   = {theta_hat['sigma2_e']:.4f} (true={sigma2_e_true})\")"
   ]
  },
  {
   "cell_type": "markdown",
   "id": "37969efa",
   "metadata": {},
   "source": [
    "Get the marginal log likelihood."
   ]
  },
  {
   "cell_type": "code",
   "execution_count": 45,
   "id": "7009025c",
   "metadata": {},
   "outputs": [
    {
     "name": "stdout",
     "output_type": "stream",
     "text": [
      "Marginal log likelihood at each iteration:\n",
      "[-306.34395457281573, -304.893732906587, -304.8924042789314, -304.8924031580785]\n"
     ]
    }
   ],
   "source": [
    "print(\"Marginal log likelihood at each iteration:\")\n",
    "print(history[\"ll\"])"
   ]
  },
  {
   "cell_type": "markdown",
   "id": "f47528bf",
   "metadata": {},
   "source": [
    "Plot the marginal log likelihood."
   ]
  },
  {
   "cell_type": "code",
   "execution_count": 46,
   "id": "587ed95b",
   "metadata": {},
   "outputs": [
    {
     "data": {
      "image/png": "[encoded data removed]",
      "text/plain": [
       "<Figure size 600x400 with 1 Axes>"
      ]
     },
     "metadata": {},
     "output_type": "display_data"
    }
   ],
   "source": [
    "plt.figure(figsize=(6,4))\n",
    "plt.plot(history[\"ll\"], marker='o')\n",
    "plt.xlabel(\"Iteration\")\n",
    "plt.ylabel(\"Marginal Log-Likelihood\")\n",
    "plt.title(\"EM Convergence (LMM)\")\n",
    "plt.grid(True)\n",
    "plt.show()"
   ]
  },
  {
   "cell_type": "markdown",
   "id": "b1c5021e",
   "metadata": {},
   "source": [
    "Check the posterior mean of $\\beta$."
   ]
  },
  {
   "cell_type": "code",
   "execution_count": 75,
   "id": "eff7e814",
   "metadata": {},
   "outputs": [
    {
     "name": "stdout",
     "output_type": "stream",
     "text": [
      "\n",
      "Posterior mean of β (first few entries):\n",
      "[-1.44955654  0.77050568  1.71912188  0.98894637  1.40868547]\n",
      "\n",
      "True β (first few entries):\n",
      "[-1.48055571  0.7589416   1.6768389   1.01675352  1.40862415]\n"
     ]
    }
   ],
   "source": [
    "print(\"\\nPosterior mean of β (first few entries):\")\n",
    "print(beta[\"mean\"][:min(5,p)])\n",
    "\n",
    "print(\"\\nTrue β (first few entries):\")\n",
    "print(beta_true[:min(5,p)])"
   ]
  },
  {
   "cell_type": "markdown",
   "id": "cbf56915",
   "metadata": {},
   "source": [
    "# 2. Apply the implementation to dataset"
   ]
  },
  {
   "cell_type": "markdown",
   "id": "500fe3eb",
   "metadata": {},
   "source": [
    "In this step, I applied the implemented algorithm to the dataset provided ```XYZ_MOM.txt```. The estimated parameters will be returned."
   ]
  },
  {
   "cell_type": "markdown",
   "id": "a5e1f2dc",
   "metadata": {},
   "source": [
    "## 2.1 Run EM algorithm"
   ]
  },
  {
   "cell_type": "markdown",
   "id": "09bccb13",
   "metadata": {},
   "source": [
    "Load ```XYZ_MOM.txt``` dataset.\n",
    "\n",
    "As described, The columns labeled with Z.1∼Z.30 correspond to the matrix Z and the columns labeled with X.1∼X.6000 correspond to the matrix X. "
   ]
  },
  {
   "cell_type": "code",
   "execution_count": 51,
   "id": "dec15328",
   "metadata": {},
   "outputs": [],
   "source": [
    "data_path = \"XYZ_MOM.txt\"\n",
    "data = np.loadtxt(data_path,skiprows=1)\n",
    "y_data = data[:, 0]\n",
    "Z_data = data[:, 1:31]\n",
    "X_data = data[:, 31:]"
   ]
  },
  {
   "cell_type": "code",
   "execution_count": 52,
   "id": "9b7ba523",
   "metadata": {},
   "outputs": [
    {
     "data": {
      "text/plain": [
       "((1000,), (1000, 30), (1000, 6000))"
      ]
     },
     "execution_count": 52,
     "metadata": {},
     "output_type": "execute_result"
    }
   ],
   "source": [
    "y_data.shape, Z_data.shape, X_data.shape"
   ]
  },
  {
   "cell_type": "markdown",
   "id": "787bbf24",
   "metadata": {},
   "source": [
    "Here we checked the dimensions of the data: $\\mathbf{y}\\in\\mathbb{R}^{1000}$, $\\mathbf{Z}\\in\\mathbb{R}^{1000 \\times 30}$, $\\mathbf{X}\\in\\mathbb{R}^{1000 \\times 6000}$."
   ]
  },
  {
   "cell_type": "markdown",
   "id": "9d7b58aa",
   "metadata": {},
   "source": [
    "Run EM algorithm with the function ```em_lmm()```."
   ]
  },
  {
   "cell_type": "code",
   "execution_count": 84,
   "id": "8fa099a0",
   "metadata": {},
   "outputs": [
    {
     "name": "stdout",
     "output_type": "stream",
     "text": [
      "[EM] iter   0 log p(y)=-1360.629556\n",
      "[EM] iter   1 log p(y)=-1360.556073\n",
      "[EM] iter   2 log p(y)=-1360.552741\n",
      "[EM] iter   3 log p(y)=-1360.551905\n"
     ]
    }
   ],
   "source": [
    "theta_hat_em, beta_em, history_em = em_lmm(y_data, X_data, Z_data, max_iter=200, tol=1e-6, ridge=1e-8)"
   ]
  },
  {
   "cell_type": "markdown",
   "id": "a62095ae",
   "metadata": {},
   "source": [
    "## 2.2 Retrieve the results"
   ]
  },
  {
   "cell_type": "code",
   "execution_count": null,
   "id": "3d75c12e",
   "metadata": {},
   "outputs": [
    {
     "name": "stdout",
     "output_type": "stream",
     "text": [
      "EM finished after 4 iterations.\n",
      "\n",
      "Estimated parameters:\n",
      "omega_hat   = [ 0.00138773 -0.01182302  0.00743065 -0.00301858 -0.00447637 -0.03567541\n",
      " -0.02950013  0.0093439  -0.04802922 -0.07086734 -0.02019504 -0.02365049\n",
      " -0.04484756 -0.01916863 -0.00049561  0.04457313  0.00169456  0.00191603\n",
      " -0.03549423 -0.00468694 -0.00223575 -0.04084355 -0.01059439  0.01210981\n",
      "  0.00670014  0.01483808  0.01397361 -0.00763556 -0.0047278   0.04826396]\n",
      "sigma2_b̂   = 0.0888\n",
      "sigma2_ê   = 0.7991 \n",
      "Marginal log likelihood at each iteration:\n",
      "[-1360.629556257861, -1360.5560729799913, -1360.552741250189, -1360.5519047677128]\n"
     ]
    }
   ],
   "source": [
    "print(\"EM finished after\", len(history_em[\"ll\"]), \"iterations.\\n\")\n",
    "print(\"Estimated parameters:\")\n",
    "print(f\"omega_hat   = {theta_hat_em['omega']}\")\n",
    "print(f\"sigma2_b̂   = {theta_hat_em['sigma2_b']:.4f}\")\n",
    "print(f\"sigma2_ê   = {theta_hat_em['sigma2_e']:.4f} \")\n",
    "\n",
    "print(\"Marginal log likelihood at each iteration:\")\n",
    "print(history_em[\"ll\"])"
   ]
  },
  {
   "cell_type": "markdown",
   "id": "7c2e6dff",
   "metadata": {},
   "source": [
    "# 3. Implementation of MFVI"
   ]
  },
  {
   "cell_type": "markdown",
   "id": "257d2dac",
   "metadata": {},
   "source": [
    "## 3.1 Model setup and notations"
   ]
  },
  {
   "cell_type": "markdown",
   "id": "a198f880",
   "metadata": {},
   "source": [
    "The model setup is and notations is the same as EM algorithm. \n",
    "\n",
    "\n",
    "We consider the linear mixed model (LMM):\n",
    "$$\n",
    "y = Z\\omega + X\\beta + \\varepsilon,\n",
    "$$\n",
    "where  \n",
    "$$\n",
    "\\varepsilon \\sim \\mathcal{N}(0, \\sigma_e^2 I_n), \n",
    "\\quad \\beta \\sim \\mathcal{N}(0, \\sigma_\\beta^2 I_p).\n",
    "$$\n",
    "The parameters to estimate are\n",
    "$$\n",
    "\\Theta = \\{\\omega, \\sigma_e^2, \\sigma_\\beta^2\\}.\n",
    "$$\n",
    "\n",
    "The complete-data likelihood is\n",
    "$$\n",
    "p(y,\\beta|\\Theta)\n",
    "= p(y|\\beta,\\Theta) \\, p(\\beta|\\Theta)\n",
    "= \\mathcal{N}(y|Z\\omega + X\\beta, \\sigma_e^2 I_n) \\,\n",
    "  \\mathcal{N}(\\beta|0, \\sigma_\\beta^2 I_p)\n",
    "$$\n",
    "as we calculated in the E step of EM algorithm."
   ]
  },
  {
   "cell_type": "markdown",
   "id": "2c0d3df4",
   "metadata": {},
   "source": [
    "## 3.2 Variational Approximation"
   ]
  },
  {
   "cell_type": "markdown",
   "id": "a5a25e2a",
   "metadata": {},
   "source": [
    "The true posterior\n",
    "$$\n",
    "p(\\beta|y; \\Theta)\n",
    "\\propto p(y,\\beta|\\Theta)\n",
    "$$\n",
    "is often intractable when $p$ is large.\n",
    "\n",
    "We approximate it using a **mean-field variational family**:\n",
    "$$\n",
    "q(\\beta) = \\prod_{j=1}^p q_j(\\beta_j), \\qquad\n",
    "q_j(\\beta_j) = \\mathcal{N}(m_j, s_j),\n",
    "$$\n",
    "where $m = (m_1,\\ldots,m_p)$ and $s = (s_1,\\ldots,s_p)$ are variational parameters.\n"
   ]
  },
  {
   "cell_type": "markdown",
   "id": "c2e4b4d0",
   "metadata": {},
   "source": [
    "## 3.3 Variational Objective (ELBO)"
   ]
  },
  {
   "cell_type": "markdown",
   "id": "1b43d26a",
   "metadata": {},
   "source": [
    "The true posterior is:\n",
    "\n",
    "$$\n",
    "p(\\beta \\mid y) = \\frac{p(y, \\beta)}{p(y)}.\n",
    "$$\n",
    "\n",
    "Then take the log of the posterior:\n",
    "\n",
    "$$\n",
    "\\log p(y) = \\mathcal{L}(q, \\Theta) + KL(q(\\beta) || p(\\beta \\mid y)),\n",
    "$$\n",
    "\n",
    "where the **Evidence Lower Bound (ELBO)** is:\n",
    "\n",
    "$$\n",
    "\\boxed{\n",
    "\\begin{aligned}\n",
    "\\mathcal{L}(q, \\Theta)\n",
    "&= \\mathbb{E}_q[\\log p(y, \\beta)]\n",
    " - \\mathbb{E}_q[\\log q(\\beta)] \\\\\n",
    "&= \\mathbb{E}_q[\\log p(y \\mid \\beta, \\Theta)] + \\mathbb{E}_q[\\log p(\\beta \\mid \\Theta)]\n",
    " - \\mathbb{E}_q[\\log q(\\beta)]\n",
    "\\end{aligned}}\n",
    ",\n",
    "$$\n",
    "\n",
    "and the KL divergence is:\n",
    "\n",
    "$$\n",
    "KL(q(\\beta) || p(\\beta \\mid y)) = \\mathbb{E}_{q}[\\log \\frac{q(\\beta)}{p(\\beta \\mid y)}].\n",
    "$$\n",
    "\n",
    "We want to let $q(\\beta)$ close to the true posterior $p(\\beta \\mid y)$ as much as possible, so we'll need to find the $q$ that minimize the KL divergence:\n",
    "\n",
    "$$\n",
    "q^*(\\beta) = \\arg\\min_q KL(q(\\beta) || p(\\beta \\mid y)).\n",
    "$$\n",
    "\n",
    "Given that the KL divergence is always $\\ge 0$, \n",
    "\n",
    "$$\n",
    "\\boxed{\n",
    "\\mathcal{L}(q,\\Theta) \\le \\log p(y|\\Theta),\n",
    "\\quad\n",
    "\\text{and equality holds iff } q(\\beta)=p(\\beta|y,\\Theta).\n",
    "}\n",
    "$$.\n",
    "\n",
    "Minimizing KL equals to maximizing ELBO:\n",
    "\n",
    "$$\n",
    "q^*(\\beta) = \\arg \\max_q \\mathcal{L}(q).\n",
    "$$\n",
    "\n",
    "Expanding each term as follows:"
   ]
  },
  {
   "cell_type": "markdown",
   "id": "f4990aad",
   "metadata": {},
   "source": [
    "### 3.3.1 Likelihood term\n",
    "\n",
    "$$\n",
    "\\begin{aligned}\n",
    "\\mathbb{E}_q[\\log p(y|\\beta, \\Theta)]\n",
    "&= -\\frac{n}{2}\\log(2\\pi\\sigma_e^2)\n",
    "   - \\frac{1}{2\\sigma_e^2}\n",
    "     \\mathbb{E}_q[\\|y - Z\\omega - X\\beta\\|^2] \\\\\n",
    "&= -\\frac{n}{2}\\log(2\\pi\\sigma_e^2)\n",
    "   - \\frac{1}{2\\sigma_e^2}\n",
    "     \\Big(\\|y - Z\\omega - X m\\|^2 + \\operatorname{tr}(X\\,\\mathrm{diag}(s)\\,X^\\top)\\Big).\n",
    "\\end{aligned}\n",
    "$$"
   ]
  },
  {
   "cell_type": "markdown",
   "id": "5caf3b4c",
   "metadata": {},
   "source": [
    "### 3.3.2 Prior term\n",
    "$$\n",
    "\\begin{aligned}\n",
    "\\mathbb{E}_q[\\log p(\\beta|\\Theta)]\n",
    "&= -\\frac{p}{2}\\log(2\\pi\\sigma_\\beta^2)\n",
    "   - \\frac{1}{2\\sigma_\\beta^2}\n",
    "     \\mathbb{E}_q[\\|\\beta\\|^2] \\\\\n",
    "&= -\\frac{p}{2}\\log(2\\pi\\sigma_\\beta^2)\n",
    "   - \\frac{1}{2\\sigma_\\beta^2}(\\|m\\|^2 + \\sum_{j=1}^p s_j).\n",
    "\\end{aligned}\n",
    "$$\n"
   ]
  },
  {
   "cell_type": "markdown",
   "id": "b8c77e59",
   "metadata": {},
   "source": [
    "### 3.3.3 Entropy term\n",
    "$$\n",
    "\\mathbb{E}_q[-\\log q(\\beta)]\n",
    "= \\frac{1}{2}\\sum_{j=1}^p \\log(2\\pi e\\, s_j).\n",
    "$$"
   ]
  },
  {
   "cell_type": "markdown",
   "id": "dc8e9b3b",
   "metadata": {},
   "source": [
    "### 3.3.4 Full ELBO\n",
    "$$\n",
    "\\boxed{\n",
    "\\begin{aligned}\n",
    "\\mathcal{L}(q,\\Theta)\n",
    "&= -\\frac{n}{2}\\log(2\\pi\\sigma_e^2)\n",
    "   - \\frac{1}{2\\sigma_e^2}\n",
    "     \\Big(\\|y - Z\\omega - X m\\|^2 + \\operatorname{tr}(X\\,\\mathrm{diag}(s)\\,X^\\top)\\Big) \\\\\n",
    "&\\quad -\\frac{p}{2}\\log(2\\pi\\sigma_\\beta^2)\n",
    "   - \\frac{1}{2\\sigma_\\beta^2}(\\|m\\|^2 + \\sum_j s_j)\n",
    "   + \\frac{1}{2}\\sum_j \\log(2\\pi e\\, s_j).\n",
    "\\end{aligned}\n",
    "}\n",
    "$$"
   ]
  },
  {
   "cell_type": "code",
   "execution_count": 32,
   "id": "78476c16",
   "metadata": {},
   "outputs": [],
   "source": [
    "def _elbo_lmm(y: np.ndarray,\n",
    "              Z: np.ndarray,\n",
    "              X: np.ndarray,\n",
    "              omega: np.ndarray,\n",
    "              m: np.ndarray,\n",
    "              s2_diag: np.ndarray,\n",
    "              sigma2_e: float,\n",
    "              sigma2_b: float) -> float:\n",
    "    \n",
    "    n, p = X.shape\n",
    "    # E[||y - Zω - Xβ||^2] = ||y - Zω - X m||^2 + Tr(X S X^T), S=diag(s2_diag)\n",
    "    r_mean = y - Z @ omega - X @ m\n",
    "    term1 = float(r_mean @ r_mean)\n",
    "    x_norm2 = (X**2).sum(axis=0)\n",
    "    tr_xsx = float((s2_diag * x_norm2).sum())\n",
    "\n",
    "    Eq_log_like = -0.5 * n * np.log(2.0 * np.pi * sigma2_e) - 0.5 * (term1 + tr_xsx) / sigma2_e\n",
    "\n",
    "    # Prior: β ~ N(0, σ_b^2 I)\n",
    "    Eb2 = float((m**2 + s2_diag).sum())\n",
    "    Eq_log_prior = -0.5 * p * np.log(2.0 * np.pi * sigma2_b) - 0.5 * Eb2 / sigma2_b\n",
    "\n",
    "    # Entropy of factorized Gaussian q\n",
    "    entropy = 0.5 * np.log(2.0 * np.pi * np.e * s2_diag).sum()\n",
    "\n",
    "    return float(Eq_log_like + Eq_log_prior + entropy)"
   ]
  },
  {
   "cell_type": "markdown",
   "id": "d9264b72",
   "metadata": {},
   "source": [
    "## 3.4 E-step"
   ]
  },
  {
   "cell_type": "markdown",
   "id": "0661b1cf",
   "metadata": {},
   "source": [
    "We assume the mean-field family\n",
    "$$\n",
    "q(\\beta)=\\prod_{k=1}^p q_k(\\beta_k),\\qquad \n",
    "q_k(\\beta_k)=\\mathcal N(m_k, s_k).\n",
    "$$\n",
    "Fix $\\Theta=\\{\\omega,\\sigma_e^2,\\sigma_\\beta^2\\}$.  \n",
    "The optimal factor $q_j(\\beta_j)$ satisfies the standard mean-field identity\n",
    "$$\n",
    "\\log q_j^*(\\beta_j)\\;=\\;\\mathbb E_{q(\\beta_{-j})}\\!\\left[\\log p(y,\\beta\\mid\\Theta)\\right] + \\text{const},\n",
    "$$\n",
    "where $\\beta_{-j}$ denotes all coordinates except $j$."
   ]
  },
  {
   "cell_type": "markdown",
   "id": "42a4e97f",
   "metadata": {},
   "source": [
    "### 3.4.1 Joint log-density up to a constant\n",
    "Under the LMM,\n",
    "$$\n",
    "\\log p(y,\\beta\\mid\\Theta)\n",
    "= -\\frac{1}{2\\sigma_e^2}\\,\\big\\|y - Z\\omega - X\\beta\\big\\|^2\n",
    "  -\\frac{1}{2\\sigma_\\beta^2}\\,\\|\\beta\\|^2 + \\text{const}.\n",
    "$$\n",
    "\n",
    "Let $x_k$ be the $k$-th column of $X$. Then\n",
    "$$\n",
    "\\|y - Z\\omega - X\\beta\\|^2\n",
    "= \\Big\\|\\,y - Z\\omega - \\sum_{k=1}^p x_k\\beta_k\\,\\Big\\|^2.\n",
    "$$\n",
    "\n",
    "Split out the $j$-th coordinate by defining the **partial residual**\n",
    "$$\n",
    "r_{-j}\\;\\coloneqq\\; y - Z\\omega - \\sum_{k\\neq j} x_k\\,\\beta_k.\n",
    "$$\n",
    "Then\n",
    "$$\n",
    "\\|y - Z\\omega - X\\beta\\|^2 \\;=\\; \\|\\,r_{-j} - x_j\\beta_j\\,\\|^2\n",
    "= r_{-j}^\\top r_{-j} - 2\\beta_j x_j^\\top r_{-j} + \\beta_j^2 \\|x_j\\|^2.\n",
    "$$"
   ]
  },
  {
   "cell_type": "markdown",
   "id": "ed24e4a1",
   "metadata": {},
   "source": [
    "### 3.4.2 Take expectation over $q(\\beta_{-j})$\n",
    "Since $r_{-j}$ depends only on $\\beta_{-j}$, we replace it by its expectation under $q(\\beta_{-j})$:\n",
    "$$\n",
    "\\mathbb E_{-j}[r_{-j}] \\;=\\; y - Z\\omega - \\sum_{k\\neq j} x_k\\, m_k\n",
    "\\;\\eqqcolon\\; \\bar r_{-j}.\n",
    "$$\n",
    "The term $r_{-j}^\\top r_{-j}$ does not involve $\\beta_j$ when taking expectation and thus folds into a constant (w.r.t.\\ $\\beta_j$). Therefore, up to an additive constant,\n",
    "$$\n",
    "\\mathbb E_{-j}\\!\\left[\\log p(y,\\beta\\mid\\Theta)\\right]\n",
    "= -\\frac{1}{2\\sigma_e^2}\\Big(\\beta_j^2\\|x_j\\|^2 - 2\\beta_j x_j^\\top \\bar r_{-j}\\Big)\n",
    "  -\\frac{1}{2\\sigma_\\beta^2}\\,\\beta_j^2 + \\text{const}.\n",
    "$$"
   ]
  },
  {
   "cell_type": "markdown",
   "id": "356ffc97",
   "metadata": {},
   "source": [
    "### 3.4.3 Read off the Gaussian form\n",
    "Collect the quadratic and linear terms in $\\beta_j$:\n",
    "$$\n",
    "\\log q_j^*(\\beta_j) \\;=\\;\n",
    "-\\frac{1}{2}\\Big(\\underbrace{\\frac{\\|x_j\\|^2}{\\sigma_e^2}+\\frac{1}{\\sigma_\\beta^2}}_{\\text{precision } \\tau_j}\\Big)\\beta_j^2\n",
    "\\;+\\;\n",
    "\\Big(\\underbrace{\\frac{x_j^\\top \\bar r_{-j}}{\\sigma_e^2}}_{\\text{linear coef.}}\\Big)\\beta_j\n",
    "\\;+\\; \\text{const}.\n",
    "$$\n",
    "Hence $q_j^*(\\beta_j)$ is Gaussian with precision $\\tau_j$ and mean $\\mu_j$:\n",
    "$$\n",
    "s_j \\;=\\; \\tau_j^{-1}\n",
    "= \\left(\\frac{\\|x_j\\|^2}{\\sigma_e^2}+\\frac{1}{\\sigma_\\beta^2}\\right)^{-1},\n",
    "\\qquad\n",
    "m_j \\;=\\; s_j\\;\\frac{x_j^\\top \\bar r_{-j}}{\\sigma_e^2}.\n",
    "$$\n",
    "\n",
    "Using $\\bar r_{-j}= y - Z\\omega - \\sum_{k\\neq j} x_k m_k$, the **coordinate ascent updates** become\n",
    "$$\n",
    "\\boxed{\n",
    "\\begin{aligned}\n",
    "s_j^{\\text{new}} &= \\left(\\frac{\\|x_j\\|^2}{\\sigma_e^2}+\\frac{1}{\\sigma_\\beta^2}\\right)^{-1},\n",
    "m_j^{\\text{new}} &= s_j^{\\text{new}}\\;\\frac{x_j^\\top\\!\\left(y - Z\\omega - \\sum_{k\\neq j} x_k m_k\\right)}{\\sigma_e^2}.\n",
    "\\end{aligned}\n",
    "}\n",
    "$$"
   ]
  },
  {
   "cell_type": "markdown",
   "id": "dbffd4b3",
   "metadata": {},
   "source": [
    "### 3.4.5 Residual trick (implementation)\n",
    "Define the running residual at the current $m$:\n",
    "$$\n",
    "r \\;=\\; y - Z\\omega - X m.\n",
    "$$\n",
    "Then the per-coordinate update can be done in $O(n)$ time by:\n",
    "$$\n",
    "r \\leftarrow r + x_j\\,m_j,\\qquad\n",
    "m_j \\leftarrow s_j\\,\\frac{x_j^\\top r}{\\sigma_e^2},\\qquad\n",
    "r \\leftarrow r - x_j\\,m_j.\n",
    "$$\n",
    "This avoids recomputing $\\sum_{k\\neq j} x_k m_k$ from scratch and yields an overall $O(np)$ pass per sweep."
   ]
  },
  {
   "cell_type": "markdown",
   "id": "8ce548a0",
   "metadata": {},
   "source": [
    "## 3.5 M-step"
   ]
  },
  {
   "cell_type": "markdown",
   "id": "e07dfe66",
   "metadata": {},
   "source": [
    "Maximize ELBO w.r.t. $\\Theta = (\\omega, \\sigma_e^2, \\sigma_\\beta^2)$, holding $q(\\beta)$ fixed:\n",
    "\n",
    "$$\n",
    "\\boxed{\n",
    "\\begin{aligned}\n",
    "\\omega^{\\text{new}}\n",
    "&= (Z^\\top Z)^{-1} Z^\\top (y - X m), \\\\\n",
    "\\sigma_e^{2\\,\\text{new}}\n",
    "&= \\frac{1}{n}\\Big(\\|y - Z\\omega - X m\\|^2 + \\operatorname{tr}(X\\,\\mathrm{diag}(s)\\,X^\\top)\\Big), \\\\\n",
    "\\sigma_\\beta^{2\\,\\text{new}}\n",
    "&= \\frac{1}{p}\\Big(\\|m\\|^2 + \\sum_j s_j\\Big).\n",
    "\\end{aligned}\n",
    "}\n",
    "$$"
   ]
  },
  {
   "cell_type": "markdown",
   "id": "a5d9f69d",
   "metadata": {},
   "source": [
    "In the **M-step**, we fix the current variational distribution $q(\\beta)$\n",
    "and maximize the ELBO with respect to the model parameters $\\Theta$.\n",
    "\n",
    "Recall that the ELBO can be written (up to constants) as:\n",
    "\n",
    "$$\n",
    "\\mathcal{L}(q, \\Theta)\n",
    "= \\mathbb{E}_q[\\log p(y|\\beta,\\Theta)]\n",
    "+ \\mathbb{E}_q[\\log p(\\beta|\\Theta)]\n",
    "- \\mathbb{E}_q[\\log q(\\beta)].\n",
    "$$\n",
    "\n",
    "Since the last term does not depend on $\\Theta$,\n",
    "we only need to maximize the first two expectations."
   ]
  },
  {
   "cell_type": "markdown",
   "id": "9494110c",
   "metadata": {},
   "source": [
    "### 3.5.1 Expected complete log-likelihood\n",
    "\n",
    "We already have:\n",
    "\n",
    "$$\n",
    "\\mathbb{E}_q[\\log p(y|\\beta,\\Theta)]\n",
    "= -\\frac{n}{2}\\log(2\\pi\\sigma_e^2)\n",
    "  -\\frac{1}{2\\sigma_e^2}\\,\n",
    "  \\mathbb{E}_q\\!\\left[\\|y - Z\\omega - X\\beta\\|^2\\right].\n",
    "$$\n",
    "\n",
    "Now expand the quadratic expectation term:\n",
    "\n",
    "$$\n",
    "\\begin{aligned}\n",
    "\\mathbb{E}_q[\\|y - Z\\omega - X\\beta\\|^2]\n",
    "&= \\|y - Z\\omega - X\\mathbb{E}_q[\\beta]\\|^2\n",
    "  + \\mathrm{tr}\\!\\left(X\\,\\mathrm{Cov}_q[\\beta]\\,X^\\top\\right) \\\\\n",
    "&= \\|y - Z\\omega - X m\\|^2 + \\mathrm{tr}\\!\\left(X\\,\\mathrm{diag}(s)\\,X^\\top\\right),\n",
    "\\end{aligned}\n",
    "$$\n",
    "where $m = (m_1,\\dots,m_p)$ and $s = (s_1,\\dots,s_p)$ are the mean and variances of $q(\\beta)$.\n"
   ]
  },
  {
   "cell_type": "markdown",
   "id": "e39dda78",
   "metadata": {},
   "source": [
    "### 3.5.2 Expected prior term\n",
    "\n",
    "Similarly,\n",
    "$$\n",
    "\\mathbb{E}_q[\\log p(\\beta|\\Theta)]\n",
    "= -\\frac{p}{2}\\log(2\\pi\\sigma_\\beta^2)\n",
    "  -\\frac{1}{2\\sigma_\\beta^2}\\,\\mathbb{E}_q[\\|\\beta\\|^2].\n",
    "$$\n",
    "Since\n",
    "$$\n",
    "\\mathbb{E}_q[\\|\\beta\\|^2] = \\|m\\|^2 + \\sum_j s_j,\n",
    "$$\n",
    "we have\n",
    "$$\n",
    "\\mathbb{E}_q[\\log p(\\beta|\\Theta)]\n",
    "= -\\frac{p}{2}\\log(2\\pi\\sigma_\\beta^2)\n",
    "  -\\frac{1}{2\\sigma_\\beta^2}(\\|m\\|^2 + \\sum_j s_j).\n",
    "$$"
   ]
  },
  {
   "cell_type": "markdown",
   "id": "719461b7",
   "metadata": {},
   "source": [
    "### 3.5.3 Optimize with respect to each parameter"
   ]
  },
  {
   "cell_type": "markdown",
   "id": "45c4ac20",
   "metadata": {},
   "source": [
    "#### 3.5.3.1 Update for $ \\omega $\n",
    "\n",
    "Only the first expectation term depends on $\\omega$:\n",
    "\n",
    "$$\n",
    "\\mathcal{L}_\\omega = -\\frac{1}{2\\sigma_e^2}\\|y - Z\\omega - X m\\|^2.\n",
    "$$\n",
    "\n",
    "Maximizing this (or equivalently minimizing the norm term) gives:\n",
    "\n",
    "$$\n",
    "\\frac{\\partial \\mathcal{L}_\\omega}{\\partial \\omega} = 0\n",
    "\\quad \\Rightarrow \\quad\n",
    "Z^\\top (y - Z\\omega - X m) = 0\n",
    "\\quad \\Rightarrow \\quad\n",
    "\\boxed{\n",
    "\\omega^{\\text{new}} = (Z^\\top Z)^{-1} Z^\\top (y - X m).\n",
    "}\n",
    "$$"
   ]
  },
  {
   "cell_type": "markdown",
   "id": "e69fe6d8",
   "metadata": {},
   "source": [
    "#### 3.5.3.2 Update for $ \\sigma_e^2 $\n",
    "\n",
    "The ELBO contains:\n",
    "$$\n",
    "\\mathcal{L}_{\\sigma_e^2}\n",
    "= -\\frac{n}{2}\\log\\sigma_e^2\n",
    "  -\\frac{1}{2\\sigma_e^2}\\left(\n",
    "  \\|y - Z\\omega - X m\\|^2 + \\mathrm{tr}(X\\,\\mathrm{diag}(s)\\,X^\\top)\n",
    "  \\right).\n",
    "$$\n",
    "Take derivative and set to zero:\n",
    "\n",
    "$$\n",
    "\\frac{\\partial \\mathcal{L}}{\\partial \\sigma_e^2} = 0\n",
    "\\quad\\Rightarrow\\quad\n",
    "\\sigma_e^{2\\,\\text{new}} =\n",
    "\\frac{1}{n}\\left(\n",
    "\\|y - Z\\omega - X m\\|^2 + \\mathrm{tr}(X\\,\\mathrm{diag}(s)\\,X^\\top)\n",
    "\\right).\n",
    "$$"
   ]
  },
  {
   "cell_type": "markdown",
   "id": "6c334536",
   "metadata": {},
   "source": [
    "#### 3.5.3.3 Update for $ \\sigma_\\beta^2 $\n",
    "\n",
    "Similarly,\n",
    "$$\n",
    "\\mathcal{L}_{\\sigma_\\beta^2}\n",
    "= -\\frac{p}{2}\\log\\sigma_\\beta^2\n",
    "  -\\frac{1}{2\\sigma_\\beta^2}\\left(\\|m\\|^2 + \\sum_j s_j\\right).\n",
    "$$\n",
    "Derivative = 0 gives:\n",
    "\n",
    "$$\n",
    "\\sigma_\\beta^{2\\,\\text{new}}\n",
    "= \\frac{1}{p}\\left(\\|m\\|^2 + \\sum_j s_j\\right).\n",
    "$$\n"
   ]
  },
  {
   "cell_type": "markdown",
   "id": "73345508",
   "metadata": {},
   "source": [
    "#### 3.5.3.4 Summary of parameters update\n",
    "\n",
    "$$\n",
    "\\boxed{\n",
    "\\begin{aligned}\n",
    "\\omega^{\\text{new}} &= (Z^\\top Z)^{-1} Z^\\top (y - X m),\\\\\n",
    "\\sigma_e^{2\\,\\text{new}} &= \\frac{1}{n}\n",
    "\\left(\\|y - Z\\omega - X m\\|^2 + \\mathrm{tr}(X\\,\\mathrm{diag}(s)\\,X^\\top)\\right),\\\\\n",
    "\\sigma_\\beta^{2\\,\\text{new}} &= \\frac{1}{p}\n",
    "\\left(\\|m\\|^2 + \\sum_j s_j\\right).\n",
    "\\end{aligned}\n",
    "}\n",
    "$$\n",
    "\n",
    "These are the **closed-form coordinate updates** for the M-step in the mean-field variational inference algorithm."
   ]
  },
  {
   "cell_type": "code",
   "execution_count": null,
   "id": "21f03646",
   "metadata": {},
   "outputs": [],
   "source": [
    "def mfvi_lmm(y: np.ndarray,\n",
    "             X: np.ndarray,\n",
    "             Z: np.ndarray,\n",
    "             max_iter: int = 1000,\n",
    "             tol: float = 1e-6,\n",
    "             ridge: float = 0.0,\n",
    "             alpha_init: Tuple[float, float, np.ndarray] = None) -> Tuple[Dict[str, float], Dict[str, np.ndarray], Dict[str, list]]:\n",
    "    \n",
    "    \"\"\"\n",
    "    LMM: y = Zω + Xβ + ε,  β ~ N(0, σ_b^2 I), ε ~ N(0, σ_e^2 I)\n",
    "    Mean-field VI: q(β)=∏_j N(m_j, s_j^2)\n",
    "    M-step updates:\n",
    "      ω ← argmin ||(y - X m) - Zω||^2\n",
    "      σ_e^2 ← (||y - Zω - X m||^2 + Tr(X S X^T))/n\n",
    "      σ_b^2 ← (||m||^2 + Tr(S))/p\n",
    "    \"\"\"\n",
    "    \n",
    "    # Basic dimensions\n",
    "    n, p = X.shape\n",
    "    _, c = Z.shape\n",
    "\n",
    "    # initialization\n",
    "    if alpha_init is None:\n",
    "        # OLS for ω ignoring random effect\n",
    "        omega = npl.lstsq(Z, y, rcond=None)[0]\n",
    "        resid_ols = y - Z @ omega\n",
    "        sigma2_e = float(max(np.var(resid_ols), 1e-12))\n",
    "        sigma2_b = float(max(0.1 * sigma2_e, 1e-6))\n",
    "    else:\n",
    "        sigma2_e, sigma2_b, omega = alpha_init\n",
    "\n",
    "    # q(β): start with zeros mean\n",
    "    m = np.zeros(p)\n",
    "    x_norm2 = (X**2).sum(axis=0)\n",
    "\n",
    "    # Variances per coordinate\n",
    "    s2 = 1.0 / ( (1.0 / max(sigma2_b,1e-12)) + x_norm2 / max(sigma2_e,1e-12) + ridge )\n",
    "\n",
    "    history = {\"elbo\": [], \"ll\": [], \"sigma2_e\": [], \"sigma2_b\": [], \"omega_norm\": []}\n",
    "\n",
    "    for it in range(max_iter):\n",
    "        m_old, omega_old = m.copy(), omega.copy()\n",
    "        sigma2_e_old, sigma2_b_old = sigma2_e, sigma2_b\n",
    "\n",
    "        # ----- E-step: coordinate ascent over j for q(β_j) -----\n",
    "        # s2_j = 1 / (σ_b^{-2} + ||x_j||^2 / σ_e^2 + ridge)\n",
    "        s2 = 1.0 / ( (1.0 / max(sigma2_b,1e-12)) + x_norm2 / max(sigma2_e,1e-12) + ridge )\n",
    "\n",
    "        # residual trick including fixed effects\n",
    "        Xm = X @ m\n",
    "        r0 = y - Z @ omega  # remove fixed effect first\n",
    "        for j in range(p):\n",
    "            # r_j = (y - Zω) - X m + x_j m_j\n",
    "            r_j = r0 - Xm + X[:, j] * m[j]\n",
    "\n",
    "            # m_j = s2_j * (x_j^T r_j) / σ_e^2\n",
    "            m_j_new = s2[j] * (X[:, j].dot(r_j)) / max(sigma2_e, 1e-12)\n",
    "\n",
    "            # keep up-to-date\n",
    "            Xm += X[:, j] * (m_j_new - m[j])\n",
    "            m[j] = m_j_new\n",
    "\n",
    "        S_trace = float(s2.sum())\n",
    "        Tr_XSXt = float((s2 * x_norm2).sum())\n",
    "\n",
    "        # M-step: update ω, σ_e^2, σ_b^2\n",
    "        # ω = (Z^T Z)^{-1} Z^T (y - X m)\n",
    "        ZZ = Z.T @ Z + ridge * np.eye(c)\n",
    "        Zy = Z.T @ (y - X @ m)\n",
    "        omega = npl.solve(ZZ, Zy)\n",
    "\n",
    "        resid = y - Z @ omega - X @ m\n",
    "        sigma2_e = float(max((resid @ resid + Tr_XSXt) / n, 1e-12))\n",
    "        sigma2_b = float(max(((m @ m) + S_trace) / p, 1e-12))\n",
    "\n",
    "        # diagnostics\n",
    "        elbo = _elbo_lmm(y, Z, X, omega, m, s2, sigma2_e, sigma2_b)\n",
    "        ll = marginal_loglik(y, Z, X, omega, sigma2_e, sigma2_b)\n",
    "        history[\"elbo\"].append(elbo)\n",
    "        history[\"ll\"].append(ll)\n",
    "        history[\"sigma2_e\"].append(sigma2_e)\n",
    "        history[\"sigma2_b\"].append(sigma2_b)\n",
    "        history[\"omega_norm\"].append(float(npl.norm(omega)))\n",
    "\n",
    "\n",
    "        if it % 25 == 0 or it == max_iter - 1:\n",
    "            print(f\"[MFVI] iter {it:3d}  ELBO={elbo:.6f}  log p(y)={ll:.6f}  gap={ll-elbo:.6f}\")\n",
    "    \n",
    "        # convergence\n",
    "        if it > 0:\n",
    "            rel_improve = (history[\"elbo\"][-1] - history[\"elbo\"][-2]) / max(1.0, abs(history[\"elbo\"][-2]))\n",
    "            if rel_improve < tol:\n",
    "                break\n",
    "\n",
    "    theta_hat = {\"omega\": omega, \"sigma2_e\": sigma2_e, \"sigma2_b\": sigma2_b}\n",
    "    qbeta = {\"mean\": m, \"var_diag\": s2}\n",
    "    return theta_hat, qbeta, history"
   ]
  },
  {
   "cell_type": "markdown",
   "id": "11a6a348",
   "metadata": {},
   "source": [
    "Now, we apply this function into the ```XYZ_MoM.txt``` data."
   ]
  },
  {
   "cell_type": "code",
   "execution_count": 82,
   "id": "5af58df1",
   "metadata": {},
   "outputs": [
    {
     "name": "stdout",
     "output_type": "stream",
     "text": [
      "[MFVI] iter   0  ELBO=-1363.451867  log p(y)=-1360.637496  gap=2.814371\n",
      "[MFVI] iter  25  ELBO=-1363.167810  log p(y)=-1360.632266  gap=2.535543\n",
      "[MFVI] iter  50  ELBO=-1363.051965  log p(y)=-1360.674165  gap=2.377800\n",
      "[MFVI] iter  75  ELBO=-1362.953835  log p(y)=-1360.712503  gap=2.241332\n",
      "[MFVI] iter 100  ELBO=-1362.869791  log p(y)=-1360.747737  gap=2.122055\n",
      "[MFVI] iter 125  ELBO=-1362.797122  log p(y)=-1360.780252  gap=2.016870\n",
      "[MFVI] iter 150  ELBO=-1362.733759  log p(y)=-1360.810372  gap=1.923387\n",
      "[MFVI] iter 175  ELBO=-1362.678100  log p(y)=-1360.838370  gap=1.839730\n",
      "[MFVI] iter 200  ELBO=-1362.628884  log p(y)=-1360.864478  gap=1.764406\n",
      "[MFVI] iter 225  ELBO=-1362.585108  log p(y)=-1360.888896  gap=1.696212\n",
      "[MFVI] iter 250  ELBO=-1362.545963  log p(y)=-1360.911796  gap=1.634167\n"
     ]
    }
   ],
   "source": [
    "theta_hat_mfvi, qbeta_mfvi, history_mfvi = mfvi_lmm(y_data, X_data, Z_data, max_iter=3000)"
   ]
  },
  {
   "cell_type": "code",
   "execution_count": 83,
   "id": "4f7236b1",
   "metadata": {},
   "outputs": [
    {
     "name": "stdout",
     "output_type": "stream",
     "text": [
      "MFVI finished after 272 iterations.\n",
      "\n",
      "Estimated parameters:\n",
      "omega_hat   = [ 0.00163606 -0.01221289  0.00722165 -0.00332131 -0.00441724 -0.03634114\n",
      " -0.02935311  0.00952597 -0.0479347  -0.07135224 -0.02010544 -0.02396067\n",
      " -0.04485372 -0.01883993 -0.00042349  0.0446421   0.0013085   0.00145923\n",
      " -0.03548477 -0.00431705 -0.00187218 -0.04108895 -0.01101055  0.01255402\n",
      "  0.00686367  0.0146138   0.01397521 -0.00771888 -0.00438369  0.04846083]\n",
      "sigma2_b̂   = 0.0684\n",
      "sigma2_ê   = 0.8260 \n"
     ]
    }
   ],
   "source": [
    "print(\"MFVI finished after\", len(history_mfvi[\"ll\"]), \"iterations.\\n\")\n",
    "print(\"Estimated parameters:\")\n",
    "print(f\"omega_hat   = {theta_hat_mfvi['omega']}\")\n",
    "print(f\"sigma2_b̂   = {theta_hat_mfvi['sigma2_b']:.4f}\")\n",
    "print(f\"sigma2_ê   = {theta_hat_mfvi['sigma2_e']:.4f} \")"
   ]
  },
  {
   "cell_type": "markdown",
   "id": "5b776a1f",
   "metadata": {},
   "source": [
    "## 3.6 Variational Gap and Convergence"
   ]
  },
  {
   "cell_type": "markdown",
   "id": "600bc36d",
   "metadata": {},
   "source": [
    "As we stated before:\n",
    "\n",
    "$$\n",
    "\\boxed{\n",
    "\\mathcal{L}(q,\\Theta) \\le \\log p(y|\\Theta),\n",
    "\\quad\n",
    "\\text{and equality holds iff } q(\\beta)=p(\\beta|y,\\Theta).\n",
    "}\n",
    "$$\n",
    "\n",
    "During iterations, both $\\mathcal{L}$ and $\\log p(y|\\Theta)$ typically increase and converge,  \n",
    "but ELBO will remain slightly below the marginal log-likelihood due to the mean-field independence assumption.\n"
   ]
  },
  {
   "cell_type": "markdown",
   "id": "5fcb63d3",
   "metadata": {},
   "source": [
    "The marginal likelihood and ELBO value at each iteration is plotted below."
   ]
  },
  {
   "cell_type": "code",
   "execution_count": null,
   "id": "82c27df7",
   "metadata": {},
   "outputs": [],
   "source": [
    "def plot_elbo_vs_ll(history):\n",
    "    elbo = np.array(history[\"elbo\"])\n",
    "    ll = np.array(history[\"ll\"])\n",
    "    iters = np.arange(1, len(elbo) + 1)\n",
    "    diff = ll - elbo\n",
    "\n",
    "    fig, ax1 = plt.subplots(figsize=(10, 6))\n",
    "\n",
    "    # left axis: ELBO and LL\n",
    "    ax1.set_xlabel(\"Iteration\")\n",
    "    ax1.set_ylabel(\"ELBO or LL\")\n",
    "    ax1.plot(iters, elbo, color=\"tab:blue\", linewidth=1.5, label=\"ELBO\", marker='o', markersize=3, markevery=20)\n",
    "    ax1.plot(iters, ll, color=\"tab:orange\", linewidth=1.5, label=\"Marginal Log-Likelihood\", marker='s', markersize=3, markevery=20)\n",
    "    ax1.tick_params(axis='y')\n",
    "    ax1.grid(True, linestyle=\"--\", alpha=0.6)\n",
    "\n",
    "    # right axis: Difference (LL - ELBO)\n",
    "    ax2 = ax1.twinx()\n",
    "    ax2.set_ylabel(\"Difference (LL - ELBO)\", color=\"tab:purple\")\n",
    "    ax2.plot(iters, diff, color=\"tab:purple\", linestyle=\"--\", linewidth=1.5, label=\"Gap (LL - ELBO)\")\n",
    "    ax2.tick_params(axis='y', labelcolor=\"tab:purple\")\n",
    "\n",
    "    # Legend combining both axes\n",
    "    lines1, labels1 = ax1.get_legend_handles_labels()\n",
    "    lines2, labels2 = ax2.get_legend_handles_labels()\n",
    "    ax1.legend(lines1 + lines2, labels1 + labels2,\n",
    "               loc=\"center left\", bbox_to_anchor=(1.1, 0.5),\n",
    "               borderaxespad=0, frameon=False)\n",
    "\n",
    "\n",
    "    plt.title(\"MFVI: ELBO vs Marginal Log-Likelihood and Their Difference\")\n",
    "    plt.tight_layout()\n",
    "    plt.show()\n"
   ]
  },
  {
   "cell_type": "code",
   "execution_count": 111,
   "id": "4ec37e95",
   "metadata": {},
   "outputs": [
    {
     "data": {
      "image/png": "[encoded data removed]",
      "text/plain": [
       "<Figure size 1000x600 with 2 Axes>"
      ]
     },
     "metadata": {},
     "output_type": "display_data"
    }
   ],
   "source": [
    "plot_elbo_vs_ll(history_mfvi)"
   ]
  },
  {
   "cell_type": "markdown",
   "id": "58cae336",
   "metadata": {},
   "source": [
    "## 3.7 Comparison between MFVI and EM: Posterior Mean and Variance of $ \\boldsymbol{\\beta} $"
   ]
  },
  {
   "cell_type": "markdown",
   "id": "703c9b25",
   "metadata": {},
   "source": [
    "### 3.7.1 EM algorithm\n",
    "\n",
    "In the **EM algorithm** for the linear mixed model:\n",
    "\n",
    "$$\n",
    "y = Z\\omega + X\\beta + \\varepsilon, \\quad \n",
    "\\beta \\sim \\mathcal{N}(0, \\sigma_\\beta^2 I_p), \\quad \n",
    "\\varepsilon \\sim \\mathcal{N}(0, \\sigma_e^2 I_n),\n",
    "$$\n",
    "\n",
    "the E-step computes the **posterior of** $ \\beta $ given current parameters $ \\Theta^{(t)} = (\\omega, \\sigma_e^2, \\sigma_\\beta^2) $:\n",
    "\n",
    "$$\n",
    "p(\\beta \\mid y, \\Theta^{(t)}) \n",
    "= \\mathcal{N}\\!\\left(m_{\\text{EM}}, S_{\\text{EM}}\\right),\n",
    "$$\n",
    "\n",
    "where\n",
    "\n",
    "$$\n",
    "S_{\\text{EM}} = \n",
    "\\left(\\frac{X^\\top X}{\\sigma_e^2} + \\frac{I_p}{\\sigma_\\beta^2}\\right)^{-1}, \n",
    "\\qquad\n",
    "m_{\\text{EM}} = \n",
    "S_{\\text{EM}}\\frac{X^\\top (y - Z\\omega)}{\\sigma_e^2}.\n",
    "$$\n",
    "\n",
    "Hence, the EM algorithm keeps the **exact Gaussian posterior** of $ \\beta $, \n",
    "which is *fully coupled* through $ X^\\top X $ — meaning that the posterior covariance \n",
    "captures the correlations between all components of $ \\beta $.\n"
   ]
  },
  {
   "cell_type": "markdown",
   "id": "b4edd2a9",
   "metadata": {},
   "source": [
    "### 3.7.2 Mean-Field Variational Inference (MFVI)\n",
    "\n",
    "In **MFVI**, we use a *factorized approximation*:\n",
    "\n",
    "$$\n",
    "q(\\beta) = \\prod_{j=1}^p q_j(\\beta_j),\n",
    "$$\n",
    "and assume each factor $ q_j(\\beta_j) $ is Gaussian:\n",
    "$$\n",
    "q_j(\\beta_j) = \\mathcal{N}(m_j, s_j).\n",
    "$$\n",
    "\n",
    "The optimal mean-field parameters are updated coordinate-wise as:\n",
    "\n",
    "$$\n",
    "s_j^{\\text{MFVI}} = \n",
    "\\left( \\frac{\\|x_j\\|^2}{\\sigma_e^2} + \\frac{1}{\\sigma_\\beta^2} \\right)^{-1},\n",
    "\\qquad\n",
    "m_j^{\\text{MFVI}} = \n",
    "s_j^{\\text{MFVI}} \\frac{x_j^\\top (y - Z\\omega - \\sum_{k \\ne j} x_k m_k)}{\\sigma_e^2}.\n",
    "$$\n",
    "\n",
    "Thus, the **posterior mean vector** under MFVI is:\n",
    "$$\n",
    "m_{\\text{MFVI}} = (m_1, \\ldots, m_p)^\\top,\n",
    "$$\n",
    "and the **posterior variance (diagonal)** is:\n",
    "$$\n",
    "S_{\\text{MFVI}} = \\mathrm{diag}(s_1, \\ldots, s_p).\n",
    "$$\n"
   ]
  },
  {
   "cell_type": "markdown",
   "id": "90faeeb5",
   "metadata": {},
   "source": [
    "### 3.7.3 Comparison and Discussion\n",
    "\n",
    "**Form**  \n",
    "- EM: Multivariate Gaussian  \n",
    "- MFVI: Product of independent univariate Gaussians\n",
    "\n",
    "**Covariance**  \n",
    "- EM: $ S_{\\mathrm{EM}}=\\big(\\tfrac{X^\\top X}{\\sigma_e^2}+\\tfrac{I}{\\sigma_\\beta^2}\\big)^{-1} $  \n",
    "- MFVI: $ S_{\\mathrm{MFVI}}=\\mathrm{diag}(s_1,\\dots,s_p) $\n",
    "\n",
    "**Correlation**  \n",
    "- EM: Includes off-diagonal correlations  \n",
    "- MFVI: Ignores correlations (independence)\n",
    "\n",
    "**Mean**  \n",
    "- EM: $ m_{\\mathrm{EM}}=S_{\\mathrm{EM}}\\tfrac{X^\\top (y-Z\\omega)}{\\sigma_e^2} $  \n",
    "- MFVI: Coordinate-wise; depends on residuals\n"
   ]
  },
  {
   "cell_type": "code",
   "execution_count": 123,
   "id": "047fce8e",
   "metadata": {},
   "outputs": [],
   "source": [
    "import numpy as np\n",
    "import matplotlib.pyplot as plt\n",
    "\n",
    "def compare_em_mfvi_posterior(em_mean, mfvi_mean, em_cov, mfvi_var, markevery=50):\n",
    "    # Align dimensions\n",
    "    em_var = np.clip(np.diag(em_cov), a_min=0.0, a_max=None)  # get diagonal and prevent negatives\n",
    "    mfvi_var = np.clip(mfvi_var, a_min=0.0, a_max=None)\n",
    "\n",
    "    # Numerical metrics \n",
    "    mean_diff = mfvi_mean - em_mean\n",
    "    var_diff = mfvi_var - em_var\n",
    "    eps = 1e-12\n",
    "\n",
    "    metrics = {\n",
    "        \"mean_rmse\": float(np.sqrt(np.mean(mean_diff**2))),\n",
    "        \"mean_mae\": float(np.mean(np.abs(mean_diff))),\n",
    "        \"mean_corr\": float(np.corrcoef(em_mean, mfvi_mean)[0,1]),\n",
    "\n",
    "        \"var_rmse\": float(np.sqrt(np.mean(var_diff**2))),\n",
    "        \"var_mae\": float(np.mean(np.abs(var_diff))),\n",
    "        \"var_ratio_median\": float(np.median((mfvi_var+eps)/(em_var+eps))),\n",
    "        \"var_ratio_mean\": float(np.mean((mfvi_var+eps)/(em_var+eps))),\n",
    "    }\n",
    "\n",
    "    print(\"=== EM vs MFVI Posterior Comparison ===\")\n",
    "    for k,v in metrics.items():\n",
    "        print(f\"{k:>18s}: {v:.6g}\")\n",
    "\n",
    "    p = em_mean.shape[0]\n",
    "    iters = np.arange(p)\n",
    "\n",
    "    # plot 1: Mean scatter (with y=x reference line)\n",
    "    plt.figure(figsize=(6.2,5.5))\n",
    "    plt.scatter(em_mean, mfvi_mean, s=8, alpha=0.5)\n",
    "    lims = [min(em_mean.min(), mfvi_mean.min()), max(em_mean.max(), mfvi_mean.max())]\n",
    "    plt.plot(lims, lims, linestyle=\"--\")\n",
    "    plt.xlabel(\"EM posterior mean\")\n",
    "    plt.ylabel(\"MFVI posterior mean\")\n",
    "    plt.title(f\"Posterior Means (corr={metrics['mean_corr']:.3f}, RMSE={metrics['mean_rmse']:.3g})\")\n",
    "    plt.tight_layout()\n",
    "    plt.show()\n",
    "\n",
    "    # plot 2: Variance scatter (log-log with y=x reference line)\n",
    "    plt.figure(figsize=(6.2,5.5))\n",
    "    plt.scatter(np.log10(em_var+eps), np.log10(mfvi_var+eps), s=8, alpha=0.5)\n",
    "    vmin = min(np.log10(em_var+eps).min(), np.log10(mfvi_var+eps).min())\n",
    "    vmax = max(np.log10(em_var+eps).max(), np.log10(mfvi_var+eps).max())\n",
    "    plt.plot([vmin, vmax], [vmin, vmax], linestyle=\"--\")\n",
    "    plt.xlabel(\"log10(EM variance)\")\n",
    "    plt.ylabel(\"log10(MFVI variance)\")\n",
    "    plt.title(f\"Posterior Variances (ratio median={metrics['var_ratio_median']:.3g})\")\n",
    "    plt.tight_layout()\n",
    "    plt.show()\n",
    "\n",
    "    # plot 3: Variance ratio histogram (MFVI/EM)\n",
    "    var_ratio = (mfvi_var+eps)/(em_var+eps)\n",
    "    plt.figure(figsize=(6.6,4.2))\n",
    "    plt.hist(var_ratio, bins=50)\n",
    "    plt.xlabel(\"Variance ratio  (MFVI / EM)\")\n",
    "    plt.ylabel(\"Count\")\n",
    "    plt.title(\"Variance Ratio Distribution\")\n",
    "    plt.tight_layout()\n",
    "    plt.show()\n",
    "\n"
   ]
  },
  {
   "cell_type": "code",
   "execution_count": 121,
   "id": "3f2cbdf3",
   "metadata": {},
   "outputs": [],
   "source": [
    "em_mean = beta_em[\"mean\"]\n",
    "mfvi_mean = qbeta_mfvi[\"mean\"]\n",
    "\n",
    "em_cov = beta_em[\"cov\"]\n",
    "mfvi_var = qbeta_mfvi[\"var_diag\"]"
   ]
  },
  {
   "cell_type": "code",
   "execution_count": 122,
   "id": "b30669e6",
   "metadata": {},
   "outputs": [
    {
     "name": "stdout",
     "output_type": "stream",
     "text": [
      "=== EM vs MFVI Posterior Comparison ===\n",
      "         mean_rmse: 0.00899415\n",
      "          mean_mae: 0.00712939\n",
      "         mean_corr: 0.999957\n",
      "          var_rmse: 0.0198747\n",
      "           var_mae: 0.0198747\n",
      "  var_ratio_median: 0.772451\n",
      "    var_ratio_mean: 0.772451\n"
     ]
    },
    {
     "data": {
      "image/png": "[encoded data removed]",
      "text/plain": [
       "<Figure size 620x550 with 1 Axes>"
      ]
     },
     "metadata": {},
     "output_type": "display_data"
    },
    {
     "data": {
      "image/png": "[encoded data removed]",
      "text/plain": [
       "<Figure size 620x550 with 1 Axes>"
      ]
     },
     "metadata": {},
     "output_type": "display_data"
    },
    {
     "data": {
      "image/png": "[encoded data removed]",
      "text/plain": [
       "<Figure size 660x420 with 1 Axes>"
      ]
     },
     "metadata": {},
     "output_type": "display_data"
    },
    {
     "data": {
      "image/png": "[encoded data removed]",
      "text/plain": [
       "<Figure size 680x450 with 1 Axes>"
      ]
     },
     "metadata": {},
     "output_type": "display_data"
    }
   ],
   "source": [
    "compare_em_mfvi_posterior(em_mean, mfvi_mean, em_cov, mfvi_var, markevery=50)"
   ]
  }
 ],
 "metadata": {
  "kernelspec": {
   "display_name": "em_lmm",
   "language": "python",
   "name": "python3"
  },
  "language_info": {
   "codemirror_mode": {
    "name": "ipython",
    "version": 3
   },
   "file_extension": ".py",
   "mimetype": "text/x-python",
   "name": "python",
   "nbconvert_exporter": "python",
   "pygments_lexer": "ipython3",
   "version": "3.11.13"
  }
 },
 "nbformat": 4,
 "nbformat_minor": 5
}
