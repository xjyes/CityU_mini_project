{
 "cells": [
  {
   "cell_type": "markdown",
   "id": "4efedbca",
   "metadata": {},
   "source": [
    "# Introduction\n",
    "\n",
    "This notebook finished the tasks from the [mini project document](LMM.pdf). It aimed to implement an Expectation-Maximization (EM) algorithm to find the best set of parameter $\\theta$ for a **linear mixed model** $y = \\mathbf{Z}\\boldsymbol{\\omega} + \\mathbf{X}\\boldsymbol{\\beta} + \\mathbf{e}$ where $\\omega \\in \\mathbb{R}^c$ is the vector of fixed effects, \n",
    "$\\beta \\in \\mathbb{R}^p$ is the vector of random effects with \n",
    "$\\beta \\sim \\mathcal{N}(0, \\sigma^2_{\\beta} I_p)$, \n",
    "and $\\mathbf{e} \\sim \\mathcal{N}(0, \\sigma^2_{e} I)$ is the independent noise term. \n",
    "\n",
    "The implemented algorithm was applied to the [data set](XYZ_MoM.txt).\n",
    "\n",
    "Besides, it also demonstrated the implementation of the mean-field varaition inference (MFVI). A comparision between the MFVI and EM was made."
   ]
  }
 ],
 "metadata": {
  "kernelspec": {
   "display_name": ".conda",
   "language": "python",
   "name": "python3"
  },
  "language_info": {
   "name": "python",
   "version": "3.11.13"
  }
 },
 "nbformat": 4,
 "nbformat_minor": 5
}
